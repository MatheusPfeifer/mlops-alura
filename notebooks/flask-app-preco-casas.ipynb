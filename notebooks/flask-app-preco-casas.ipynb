{
 "cells": [
  {
   "cell_type": "code",
   "execution_count": 1,
   "id": "74722acd",
   "metadata": {},
   "outputs": [
    {
     "name": "stdout",
     "output_type": "stream",
     "text": [
      " * Serving Flask app \"__main__\" (lazy loading)\n",
      " * Environment: production\n",
      "\u001b[31m   WARNING: This is a development server. Do not use it in a production deployment.\u001b[0m\n",
      "\u001b[2m   Use a production WSGI server instead.\u001b[0m\n",
      " * Debug mode: off\n"
     ]
    },
    {
     "name": "stderr",
     "output_type": "stream",
     "text": [
      " * Running on http://127.0.0.1:5000/ (Press CTRL+C to quit)\n",
      "127.0.0.1 - - [11/May/2022 08:16:10] \"GET / HTTP/1.1\" 200 -\n",
      "127.0.0.1 - - [11/May/2022 08:16:10] \"GET /favicon.ico HTTP/1.1\" 404 -\n"
     ]
    }
   ],
   "source": [
    "import pandas as pd\n",
    "from sklearn.model_selection import train_test_split\n",
    "from sklearn.linear_model import LinearRegression\n",
    "from flask import Flask\n",
    "\n",
    "app = Flask(__name__)\n",
    "\n",
    "df = pd.read_csv('dados/casas.csv')\n",
    "\n",
    "# Filtrando algumas colunas para usar no treinamento do modelo\n",
    "#colunas = ['tamanho', 'preco']\n",
    "#df = df[colunas]\n",
    "\n",
    "X = df.drop('preco', axis = 1)\n",
    "y = df['preco']\n",
    "\n",
    "X_train, X_test, y_train, y_test = train_test_split(X, y, test_size = 0.3, random_state = 42)\n",
    "\n",
    "modelo = LinearRegression()\n",
    "modelo.fit(X, y)\n",
    "\n",
    "# Home: é definida com '/'\n",
    "@app.route('/')\n",
    "def home():\n",
    "    return('API para previsao de preços de casas!')\n",
    "\n",
    "# Página cotacao da casa\n",
    "#@app.route('/cotacao/<int:tamanho>')\n",
    "@app.route('/cotacao/', method = 'POST')\n",
    "def cotacao(tamanho):\n",
    "    print(f'Equação do modelo: y = {round(modelo.intercept_, 2)} + {round(modelo.coef_[0], 2)} * tamanho')\n",
    "    \n",
    "    preco = round(modelo.predict([[tamanho]])[0], 2)\n",
    "    \n",
    "    return f\"Preço estimado da casa: R${str(preco)}\"\n",
    "\n",
    "app.run()"
   ]
  }
 ],
 "metadata": {
  "kernelspec": {
   "display_name": "Python 3 (ipykernel)",
   "language": "python",
   "name": "python3"
  },
  "language_info": {
   "codemirror_mode": {
    "name": "ipython",
    "version": 3
   },
   "file_extension": ".py",
   "mimetype": "text/x-python",
   "name": "python",
   "nbconvert_exporter": "python",
   "pygments_lexer": "ipython3",
   "version": "3.9.7"
  }
 },
 "nbformat": 4,
 "nbformat_minor": 5
}
