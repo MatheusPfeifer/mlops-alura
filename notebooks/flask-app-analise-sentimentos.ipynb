{
 "cells": [
  {
   "cell_type": "code",
   "execution_count": 6,
   "id": "627d36be",
   "metadata": {},
   "outputs": [
    {
     "name": "stdout",
     "output_type": "stream",
     "text": [
      " * Serving Flask app \"__main__\" (lazy loading)\n",
      " * Environment: production\n",
      "\u001b[31m   WARNING: This is a development server. Do not use it in a production deployment.\u001b[0m\n",
      "\u001b[2m   Use a production WSGI server instead.\u001b[0m\n",
      " * Debug mode: off\n"
     ]
    },
    {
     "name": "stderr",
     "output_type": "stream",
     "text": [
      " * Running on http://127.0.0.1:5000/ (Press CTRL+C to quit)\n",
      "127.0.0.1 - - [05/May/2022 10:42:02] \"GET / HTTP/1.1\" 200 -\n",
      "127.0.0.1 - - [05/May/2022 10:42:20] \"GET /sentimentos/i%20am%20very%20handsome HTTP/1.1\" 404 -\n",
      "127.0.0.1 - - [05/May/2022 10:42:55] \"GET / HTTP/1.1\" 200 -\n",
      "127.0.0.1 - - [05/May/2022 10:43:12] \"GET /sentimento/i%20am%20very%20beautiful HTTP/1.1\" 200 -\n"
     ]
    }
   ],
   "source": [
    "from flask import Flask\n",
    "from textblob import TextBlob\n",
    "\n",
    "app = Flask(__name__)\n",
    "\n",
    "# Home: é definida com '/'\n",
    "@app.route('/')\n",
    "def home():\n",
    "    return('Minha primeira API!')\n",
    "\n",
    "# Página análise de sentimento\n",
    "@app.route('/sentimento/<frase>')\n",
    "def sentimento(frase):\n",
    "    tb = TextBlob(frase)\n",
    "    polaridade = tb.sentiment.polarity\n",
    "    return f\"polaridade: {polaridade}\"\n",
    "\n",
    "app.run()"
   ]
  }
 ],
 "metadata": {
  "kernelspec": {
   "display_name": "Python 3 (ipykernel)",
   "language": "python",
   "name": "python3"
  },
  "language_info": {
   "codemirror_mode": {
    "name": "ipython",
    "version": 3
   },
   "file_extension": ".py",
   "mimetype": "text/x-python",
   "name": "python",
   "nbconvert_exporter": "python",
   "pygments_lexer": "ipython3",
   "version": "3.9.7"
  }
 },
 "nbformat": 4,
 "nbformat_minor": 5
}
